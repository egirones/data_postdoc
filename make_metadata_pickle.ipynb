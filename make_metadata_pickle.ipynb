{
 "cells": [
  {
   "cell_type": "code",
   "execution_count": 1,
   "metadata": {},
   "outputs": [],
   "source": [
    "import os\n",
    "import pandas as pd\n",
    "import pickle\n",
    "import time\n",
    "import re\n",
    "import requests\n",
    "import tqdm"
   ]
  },
  {
   "cell_type": "code",
   "execution_count": 2,
   "metadata": {},
   "outputs": [],
   "source": [
    "with open(\"./klimaatadaptatie/entries.pickle\", \"rb\") as f:\n",
    "    entries = pickle.load(f)"
   ]
  },
  {
   "cell_type": "code",
   "execution_count": 3,
   "metadata": {},
   "outputs": [
    {
     "name": "stdout",
     "output_type": "stream",
     "text": [
      "20309\n"
     ]
    }
   ],
   "source": [
    "total = 0\n",
    "for i in entries:\n",
    "    if entries[i].get(\"text\"):\n",
    "        total += 1\n",
    "print(total)"
   ]
  },
  {
   "cell_type": "code",
   "execution_count": 7,
   "metadata": {},
   "outputs": [],
   "source": [
    "bekendmaking = \"./klimaatadaptatie/metadata/sources/bekendmaking.tsv\"\n",
    "notubiz = \"./klimaatadaptatie/metadata/sources/notubiz.tsv\"\n",
    "overheid = \"./klimaatadaptatie/metadata/sources/overheid.tsv\"\n",
    "bestuurlijke = \"./klimaatadaptatie/metadata/sources/bestuurlijke.tsv\""
   ]
  },
  {
   "cell_type": "code",
   "execution_count": 8,
   "metadata": {},
   "outputs": [],
   "source": [
    "df_b = pd.read_csv(bekendmaking, sep=\"\\t\")\n",
    "df_b[\"from\"] = \"bekendmakig\"\n",
    "df_n = pd.read_csv(notubiz, sep=\"\\t\")\n",
    "df_n[\"from\"] = \"notubiz\"\n",
    "df_o = pd.read_csv(overheid, sep=\"\\t\")\n",
    "df_o[\"from\"] = \"overheid\"\n",
    "df_b2 = pd.read_csv(bestuurlijke, sep=\"\\t\")\n",
    "df_b2[\"from\"] = \"bestuurlijke\""
   ]
  },
  {
   "cell_type": "code",
   "execution_count": 9,
   "metadata": {},
   "outputs": [
    {
     "data": {
      "text/plain": [
       "(Index(['name', 'url', 'old_id', 'id', 'date', 'organization', 'from'], dtype='object'),\n",
       " Index(['name', 'url', 'date', 'format', 'type_doc', 'id', 'organization',\n",
       "        'description', 'from', 'exists'],\n",
       "       dtype='object'),\n",
       " Index(['page', 'name', 'url', 'old_id', 'id', 'date', 'organization', 'from'], dtype='object'),\n",
       " Index(['url', 'name', 'date', 'text', 'organization', 'id', 'description',\n",
       "        'from'],\n",
       "       dtype='object'))"
      ]
     },
     "execution_count": 9,
     "metadata": {},
     "output_type": "execute_result"
    }
   ],
   "source": [
    "df_b.columns, df_n.columns, df_o.columns, df_b2.columns"
   ]
  },
  {
   "cell_type": "code",
   "execution_count": 10,
   "metadata": {},
   "outputs": [
    {
     "data": {
      "text/plain": [
       "(26419, 13)"
      ]
     },
     "execution_count": 10,
     "metadata": {},
     "output_type": "execute_result"
    }
   ],
   "source": [
    "df = pd.concat([df_b, df_n, df_o, df_b2])\n",
    "df.shape"
   ]
  },
  {
   "cell_type": "code",
   "execution_count": 11,
   "metadata": {},
   "outputs": [],
   "source": [
    "df = df.reset_index()\n",
    "df.drop('index', inplace=True, axis=1)"
   ]
  },
  {
   "cell_type": "code",
   "execution_count": 12,
   "metadata": {},
   "outputs": [],
   "source": [
    "df[\"organization\"] = df[\"organization\"].str.lower()"
   ]
  },
  {
   "cell_type": "code",
   "execution_count": 13,
   "metadata": {},
   "outputs": [
    {
     "data": {
      "text/html": [
       "<div>\n",
       "<style scoped>\n",
       "    .dataframe tbody tr th:only-of-type {\n",
       "        vertical-align: middle;\n",
       "    }\n",
       "\n",
       "    .dataframe tbody tr th {\n",
       "        vertical-align: top;\n",
       "    }\n",
       "\n",
       "    .dataframe thead th {\n",
       "        text-align: right;\n",
       "    }\n",
       "</style>\n",
       "<table border=\"1\" class=\"dataframe\">\n",
       "  <thead>\n",
       "    <tr style=\"text-align: right;\">\n",
       "      <th></th>\n",
       "      <th>name</th>\n",
       "      <th>url</th>\n",
       "      <th>old_id</th>\n",
       "      <th>id</th>\n",
       "      <th>date</th>\n",
       "      <th>organization</th>\n",
       "      <th>from</th>\n",
       "      <th>format</th>\n",
       "      <th>type_doc</th>\n",
       "      <th>description</th>\n",
       "      <th>exists</th>\n",
       "      <th>page</th>\n",
       "      <th>text</th>\n",
       "    </tr>\n",
       "  </thead>\n",
       "  <tbody>\n",
       "    <tr>\n",
       "      <th>24912</th>\n",
       "      <td>Accountantsverslag Zaanstad 2022.pdf</td>\n",
       "      <td>https://zaanstad.bestuurlijkeinformatie.nl/lib...</td>\n",
       "      <td>NaN</td>\n",
       "      <td>zaanstad-9999555</td>\n",
       "      <td>2023-05-25</td>\n",
       "      <td>zaanstad</td>\n",
       "      <td>bestuurlijke</td>\n",
       "      <td>NaN</td>\n",
       "      <td>NaN</td>\n",
       "      <td>NaN</td>\n",
       "      <td>NaN</td>\n",
       "      <td>NaN</td>\n",
       "      <td>Raadsvergadering - donderdag 25 mei 2023 00:00...</td>\n",
       "    </tr>\n",
       "  </tbody>\n",
       "</table>\n",
       "</div>"
      ],
      "text/plain": [
       "                                       name  \\\n",
       "24912  Accountantsverslag Zaanstad 2022.pdf   \n",
       "\n",
       "                                                     url old_id  \\\n",
       "24912  https://zaanstad.bestuurlijkeinformatie.nl/lib...    NaN   \n",
       "\n",
       "                     id        date organization          from format  \\\n",
       "24912  zaanstad-9999555  2023-05-25     zaanstad  bestuurlijke    NaN   \n",
       "\n",
       "      type_doc description exists  page  \\\n",
       "24912      NaN         NaN    NaN   NaN   \n",
       "\n",
       "                                                    text  \n",
       "24912  Raadsvergadering - donderdag 25 mei 2023 00:00...  "
      ]
     },
     "execution_count": 13,
     "metadata": {},
     "output_type": "execute_result"
    }
   ],
   "source": [
    "df[df[\"id\"] == \"zaanstad-9999555\"]"
   ]
  },
  {
   "cell_type": "code",
   "execution_count": 14,
   "metadata": {},
   "outputs": [],
   "source": [
    "def get_invalid_date(x):\n",
    "    if x == \"-1\":\n",
    "        return \"01-01-1900\"\n",
    "    return x\n",
    "\n",
    "df[\"date\"] = df[\"date\"].apply(lambda x: get_invalid_date(x))"
   ]
  },
  {
   "cell_type": "code",
   "execution_count": 15,
   "metadata": {},
   "outputs": [],
   "source": [
    "def replace_month(text):\n",
    "    if type(text) == float:\n",
    "        return \"01-01-1900\"\n",
    "    for i, k in enumerate([\"januari\", \"februari\", \"maart\", \"april\", \"mei\", \"juni\", \"juli\", \"augustus\",\"september\", \"oktober\", \"november\", \"december\"]):\n",
    "        k2 = f\" {k} \"\n",
    "        if k2 in text:\n",
    "            return text.replace(k2,f\"-{str(i+1)}-\").strip().split(\" \", 1)[0]\n",
    "    return text.split(\" \", 1)[0]\n",
    "\n",
    "def to_datetime(x):\n",
    "    return x.to_pydatetime()"
   ]
  },
  {
   "cell_type": "code",
   "execution_count": 16,
   "metadata": {},
   "outputs": [],
   "source": [
    "df[\"date\"] = df[\"date\"].apply(lambda x: replace_month(x))\n",
    "df[\"date\"] = pd.to_datetime(df[\"date\"],format=\"mixed\", dayfirst=True, errors=\"coerce\")\n",
    "df[\"date\"] = df[\"date\"].apply(lambda x: to_datetime(x))"
   ]
  },
  {
   "cell_type": "code",
   "execution_count": 17,
   "metadata": {},
   "outputs": [
    {
     "data": {
      "text/plain": [
       "Index(['name', 'url', 'old_id', 'id', 'date', 'organization', 'from', 'format',\n",
       "       'type_doc', 'description', 'exists', 'page', 'text'],\n",
       "      dtype='object')"
      ]
     },
     "execution_count": 17,
     "metadata": {},
     "output_type": "execute_result"
    }
   ],
   "source": [
    "df.columns"
   ]
  },
  {
   "cell_type": "code",
   "execution_count": 20,
   "metadata": {},
   "outputs": [],
   "source": [
    "df.to_csv(\"./klimaatadaptatie/metadata/metadata.tsv\", sep=\"\\t\")"
   ]
  },
  {
   "cell_type": "code",
   "execution_count": 21,
   "metadata": {},
   "outputs": [],
   "source": [
    "df_dict = df.to_dict(orient=\"index\")"
   ]
  },
  {
   "cell_type": "code",
   "execution_count": 22,
   "metadata": {},
   "outputs": [],
   "source": [
    "tbr= {}\n",
    "for i in df_dict:\n",
    "    data = df_dict[i]\n",
    "    new_id = df_dict[i][\"id\"]\n",
    "    tbr[new_id] = data"
   ]
  },
  {
   "cell_type": "code",
   "execution_count": 23,
   "metadata": {},
   "outputs": [],
   "source": [
    "for i in tbr:\n",
    "    del tbr[i][\"id\"]"
   ]
  },
  {
   "cell_type": "code",
   "execution_count": 24,
   "metadata": {},
   "outputs": [],
   "source": [
    "still_to_check = {}\n",
    "still_to_check[\"notubiz\"] = []\n",
    "still_to_check[\"bekendmakig\"] = []\n",
    "still_to_check[\"overheid\"] = []\n",
    "still_to_check[\"bestuurlijke\"] = []\n",
    "for i in tbr:\n",
    "    try:\n",
    "        with open(f\"./klimaatadaptatie/txt/{i}.txt\", \"r\") as f:\n",
    "            text = f.read()\n",
    "\n",
    "        new_text = re.sub(r'\\n(?!\\n)', ' ', text).strip()\n",
    "        new_text = re.sub(r'\\s{2,}', ' ', new_text).strip()\n",
    "        if len(new_text) > 50:\n",
    "            tbr[i][\"text\"] = new_text.strip()\n",
    "        else:\n",
    "            tbr[i][\"text\"] = False\n",
    "            \n",
    "    except FileNotFoundError:\n",
    "        source = tbr[i][\"from\"]\n",
    "        u = tbr[i][\"url\"]\n",
    "        still_to_check[source].append((i, u))"
   ]
  },
  {
   "cell_type": "code",
   "execution_count": 25,
   "metadata": {},
   "outputs": [
    {
     "name": "stdout",
     "output_type": "stream",
     "text": [
      "20309 4769\n"
     ]
    }
   ],
   "source": [
    "total = 0\n",
    "to_delete = []\n",
    "for i in tbr:\n",
    "    text = tbr[i].get(\"text\")\n",
    "    if text:\n",
    "        if type(text) == str:\n",
    "            total += 1\n",
    "        else:\n",
    "            to_delete.append(i)\n",
    "    else:\n",
    "        to_delete.append(i)\n",
    "print(total, len(to_delete))"
   ]
  },
  {
   "cell_type": "code",
   "execution_count": 26,
   "metadata": {},
   "outputs": [],
   "source": [
    "for i in to_delete:\n",
    "    del tbr[i]"
   ]
  },
  {
   "cell_type": "code",
   "execution_count": 27,
   "metadata": {},
   "outputs": [
    {
     "data": {
      "text/plain": [
       "20309"
      ]
     },
     "execution_count": 27,
     "metadata": {},
     "output_type": "execute_result"
    }
   ],
   "source": [
    "len(tbr.keys())"
   ]
  },
  {
   "cell_type": "code",
   "execution_count": 28,
   "metadata": {},
   "outputs": [],
   "source": [
    "with open(\"./klimaatadaptatie/entries.pickle\", \"wb\") as f:\n",
    "    pickle.dump(tbr, f)"
   ]
  }
 ],
 "metadata": {
  "kernelspec": {
   "display_name": "venv",
   "language": "python",
   "name": "python3"
  },
  "language_info": {
   "codemirror_mode": {
    "name": "ipython",
    "version": 3
   },
   "file_extension": ".py",
   "mimetype": "text/x-python",
   "name": "python",
   "nbconvert_exporter": "python",
   "pygments_lexer": "ipython3",
   "version": "3.13.0"
  }
 },
 "nbformat": 4,
 "nbformat_minor": 2
}
